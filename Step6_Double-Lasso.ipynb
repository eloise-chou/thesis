{
 "cells": [
  {
   "cell_type": "markdown",
   "metadata": {},
   "source": [
    "# Double-Lasso"
   ]
  },
  {
   "cell_type": "code",
   "execution_count": null,
   "metadata": {},
   "outputs": [],
   "source": [
    "global data \"C:\\Users\\peipeipig\\OneDrive\\桌面\\thesis_traffic_accident\\DATA\"\n",
    "\n",
    "import delimited \"$data\\taipei_road_with_dummies_100m_500m.csv\", encoding(UTF-8)"
   ]
  },
  {
   "cell_type": "markdown",
   "metadata": {},
   "source": [
    "先創建需要的變數，並利用 global 將變數分類，以利後續的分析"
   ]
  },
  {
   "cell_type": "code",
   "execution_count": null,
   "metadata": {},
   "outputs": [],
   "source": [
    "gen flow = truck_flow + car_flow + scooter_flow\n",
    "\n",
    "gen log_accidence_num = log(accidence_num)\n",
    "\n",
    "gen log_flow = log(flow)\n",
    "\n",
    "rename ( v1 road_id separate_left_turn_num no_left_turn_num sidewalk waiting_area count_711 count_youbike accidence_num morning flow ) (index 道路號 專屬左轉道 禁止左轉 人行道 機車等待區 數量_7_11 youbike數量 交通事故次數 早上 流量)\n",
    "\n",
    "xtset index\n",
    "\n",
    "global dummies 人行道 機車等待區 早上\n",
    "\n",
    "global continues 專屬左轉道 禁止左轉 數量_7_11 youbike數量 暴雨 - 事故類型_汽機車本身_其他"
   ]
  },
  {
   "cell_type": "markdown",
   "metadata": {},
   "source": [
    "pdslasso log_accidence_num log_flow ( i.($dummies) c.($continues) $dum_vars $cont_vars (i.($dummies))#(c.($continues)) )\n",
    "est store m1"
   ]
  }
 ],
 "metadata": {
  "language_info": {
   "name": "python"
  }
 },
 "nbformat": 4,
 "nbformat_minor": 2
}
