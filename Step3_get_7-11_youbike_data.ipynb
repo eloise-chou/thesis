{
 "cells": [
  {
   "cell_type": "code",
   "execution_count": 1,
   "metadata": {},
   "outputs": [],
   "source": [
    "import pandas as pd\n",
    "from time import sleep\n",
    "import numpy as np\n",
    "import requests as rq\n",
    "from model.function_get_711 import get_towns_name, get_stores_for_town"
   ]
  },
  {
   "attachments": {},
   "cell_type": "markdown",
   "metadata": {},
   "source": [
    "# 取得大台北地區所有 7-11 資料"
   ]
  },
  {
   "attachments": {},
   "cell_type": "markdown",
   "metadata": {},
   "source": [
    "先取得所有大台北地區的縣市名稱"
   ]
  },
  {
   "cell_type": "code",
   "execution_count": 4,
   "metadata": {},
   "outputs": [],
   "source": [
    "taipei_city_districts = get_towns_name('01')\n",
    "new_taipei_city_districts = get_towns_name('03')\n",
    "\n",
    "districts = {\n",
    "    '台北市': taipei_city_districts,\n",
    "    '新北市': new_taipei_city_districts\n",
    "}"
   ]
  },
  {
   "cell_type": "code",
   "execution_count": 5,
   "metadata": {},
   "outputs": [
    {
     "data": {
      "text/plain": [
       "{'台北市': ['松山區',\n",
       "  '信義區',\n",
       "  '大安區',\n",
       "  '中山區',\n",
       "  '中正區',\n",
       "  '大同區',\n",
       "  '萬華區',\n",
       "  '文山區',\n",
       "  '南港區',\n",
       "  '內湖區',\n",
       "  '士林區',\n",
       "  '北投區'],\n",
       " '新北市': ['板橋區',\n",
       "  '三重區',\n",
       "  '中和區',\n",
       "  '永和區',\n",
       "  '新莊區',\n",
       "  '新店區',\n",
       "  '樹林區',\n",
       "  '土城區',\n",
       "  '蘆洲區',\n",
       "  '汐止區',\n",
       "  '鶯歌區',\n",
       "  '三峽區',\n",
       "  '淡水區',\n",
       "  '瑞芳區',\n",
       "  '五股區',\n",
       "  '泰山區',\n",
       "  '林口區',\n",
       "  '深坑區',\n",
       "  '石碇區',\n",
       "  '坪林區',\n",
       "  '三芝區',\n",
       "  '石門區',\n",
       "  '八里區',\n",
       "  '平溪區',\n",
       "  '雙溪區',\n",
       "  '貢寮區',\n",
       "  '金山區',\n",
       "  '萬里區',\n",
       "  '烏來區']}"
      ]
     },
     "execution_count": 5,
     "metadata": {},
     "output_type": "execute_result"
    }
   ],
   "source": [
    "districts"
   ]
  },
  {
   "attachments": {},
   "cell_type": "markdown",
   "metadata": {},
   "source": [
    "有台北市與新北市各個區域之後，就可以互叫他們的 API，因為需要縣市名稱與鄉鎮市區的名稱，才會回傳完整的店家列表"
   ]
  },
  {
   "cell_type": "code",
   "execution_count": 7,
   "metadata": {},
   "outputs": [
    {
     "name": "stdout",
     "output_type": "stream",
     "text": [
      "Getting 松山區...\n",
      "Getting 信義區...\n",
      "Getting 大安區...\n",
      "Getting 中山區...\n",
      "Getting 中正區...\n",
      "Getting 大同區...\n",
      "Getting 萬華區...\n",
      "Getting 文山區...\n",
      "Getting 南港區...\n",
      "Getting 內湖區...\n",
      "Getting 士林區...\n",
      "Getting 北投區...\n",
      "Getting 板橋區...\n",
      "Getting 三重區...\n",
      "Getting 中和區...\n",
      "Getting 永和區...\n",
      "Getting 新莊區...\n",
      "Getting 新店區...\n",
      "Getting 樹林區...\n",
      "Getting 土城區...\n",
      "Getting 蘆洲區...\n",
      "Getting 汐止區...\n",
      "Getting 鶯歌區...\n",
      "Getting 三峽區...\n",
      "Getting 淡水區...\n",
      "Getting 瑞芳區...\n",
      "Getting 五股區...\n",
      "Getting 泰山區...\n",
      "Getting 林口區...\n",
      "Getting 深坑區...\n",
      "Getting 石碇區...\n",
      "Getting 坪林區...\n",
      "Getting 三芝區...\n",
      "Getting 石門區...\n",
      "Getting 八里區...\n",
      "Getting 平溪區...\n",
      "Getting 雙溪區...\n",
      "Getting 貢寮區...\n",
      "Getting 金山區...\n",
      "Getting 萬里區...\n",
      "Getting 烏來區...\n"
     ]
    }
   ],
   "source": [
    "store_list = []\n",
    "for city, towns in districts.items():\n",
    "    for town in towns:\n",
    "        print('Getting ' + town + '...')\n",
    "        store_list += get_stores_for_town(city, town)\n",
    "        sleep(1)"
   ]
  },
  {
   "cell_type": "code",
   "execution_count": 8,
   "metadata": {},
   "outputs": [],
   "source": [
    "store_df = pd.DataFrame(store_list)\n",
    "store_df.X = store_df.X.astype(float) * 1e-6\n",
    "store_df.Y = store_df.Y.astype(float) * 1e-6"
   ]
  },
  {
   "cell_type": "code",
   "execution_count": 9,
   "metadata": {},
   "outputs": [],
   "source": [
    "store_df.to_csv('7-11-coordinate.csv', index = False)"
   ]
  },
  {
   "cell_type": "markdown",
   "metadata": {},
   "source": [
    "# 取得大台北地區所有 Youbike 站點資料"
   ]
  },
  {
   "cell_type": "code",
   "execution_count": null,
   "metadata": {},
   "outputs": [],
   "source": [
    "COORD_SOURCE_URL = \"https://apis.youbike.com.tw/json/station-yb2.json\""
   ]
  },
  {
   "cell_type": "code",
   "execution_count": null,
   "metadata": {},
   "outputs": [],
   "source": [
    "youbike_request = rq.get(COORD_SOURCE_URL)\n",
    "youbike_df = pd.DataFrame(\n",
    "    youbike_request.json()\n",
    ")"
   ]
  },
  {
   "cell_type": "markdown",
   "metadata": {},
   "source": [
    "篩選出大台北地區的 Youbike 站點"
   ]
  },
  {
   "cell_type": "code",
   "execution_count": null,
   "metadata": {},
   "outputs": [],
   "source": [
    "youbike_df = youbike_df[(youbike_df['area_code'] == '00') | (youbike_df['area_code'] == '05')]\n",
    "youbike_df.to_csv('DATA/youbike2-coordinate.csv', index = False)"
   ]
  },
  {
   "cell_type": "markdown",
   "metadata": {},
   "source": [
    "# 下一步"
   ]
  },
  {
   "cell_type": "markdown",
   "metadata": {},
   "source": [
    "接著，我將計算路口在一定範圍內的 7-11, Youbike 數量。請參考\n",
    "[計算一定範圍內 7-11, Youbike 數量](./Step4_caculate_7-11_youbike_number.ipynb)"
   ]
  }
 ],
 "metadata": {
  "kernelspec": {
   "display_name": "mesa",
   "language": "python",
   "name": "python3"
  },
  "language_info": {
   "codemirror_mode": {
    "name": "ipython",
    "version": 3
   },
   "file_extension": ".py",
   "mimetype": "text/x-python",
   "name": "python",
   "nbconvert_exporter": "python",
   "pygments_lexer": "ipython3",
   "version": "3.8.8"
  },
  "orig_nbformat": 4
 },
 "nbformat": 4,
 "nbformat_minor": 2
}
